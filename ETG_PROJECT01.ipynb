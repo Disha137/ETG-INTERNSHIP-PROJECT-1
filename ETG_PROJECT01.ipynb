{
 "cells": [
  {
   "cell_type": "markdown",
   "metadata": {},
   "source": [
    "# Purchase items"
   ]
  },
  {
   "cell_type": "code",
   "execution_count": 1,
   "metadata": {},
   "outputs": [
    {
     "name": "stdout",
     "output_type": "stream",
     "text": [
      "** Welcome to Super Sweet Chocolate Store *** \n",
      " \n",
      "Variety of Chocolates available: \n",
      " \n",
      "1  Snikers\n",
      "2  Perk\n",
      "3 Bounty\n",
      "4  Silk\n",
      "5  5 star\n",
      "6  Twix\n",
      "7  Mars\n",
      "8  Ripple\n",
      "9  Areo\n",
      "10  Twirl\n",
      "11  Crunch\n",
      "12  Milky bar\n",
      "13  caremel\n",
      "14  Flake\n",
      "15  Wispa\n",
      "16  Boost\n",
      "17  Star bar\n",
      "18  Toffee crisp\n",
      "19  Kisses\n",
      "20  Crunchie\n",
      "21  Yorkie\n",
      "22  Dark chocolate\n",
      "23  Bournville\n",
      "24  Toblerone\n",
      "25  Gems\n",
      "26  Slik walnut\n",
      "27  Silk caremel\n",
      "28  Silk Fruiy and nut\n",
      "29  Dove\n",
      "30  Dark bark\n",
      "31  Polo\n",
      "32  Mentos\n",
      "33  Mint\n",
      "34  paper mint\n",
      "\n",
      "Enter number of type of chocolated you would like to buy:2\n",
      "\n",
      "Enter id of chocolate:1\n",
      "Enter quantity:2\n",
      "\n",
      "ID: 1  Name:  Snikers  Type:  Munchy  Price:  20  Quantity available:  50  Expiry date:  10/12/21\n",
      "New quantity 48\n",
      "\n",
      "Enter id of chocolate:2\n",
      "Enter quantity:4\n",
      "\n",
      "ID: 2  Name:  Perk  Type:  Crunchy  Price:  10  Quantity available:  100  Expiry date:  12/10/21\n",
      "New quantity 96\n",
      "\n",
      "Bill generated: 80\n",
      "***  Thank you for visiting  ***\n"
     ]
    }
   ],
   "source": [
    "fd = open(\"DATA_LIST.txt\",'r')\n",
    "txt = fd.read()\n",
    "fd.close()\n",
    "txt = str(txt)\n",
    "C_items = txt.split(\"\\n\")\n",
    "\n",
    "C_items\n",
    "print(\"** Welcome to Super Sweet Chocolate Store *** \\n \")\n",
    "print(\"Variety of Chocolates available: \\n \")\n",
    "for i in C_items:\n",
    "    \n",
    "    choco_items = i.split(\",\")\n",
    "    print(choco_items[0], choco_items[1])\n",
    "    \n",
    "n = int(input(\"\\nEnter number of type of chocolated you would like to buy:\"))\n",
    "amt=0\n",
    "amt1=0\n",
    "for a in range(n):\n",
    "    \n",
    "    id = input(\"\\nEnter id of chocolate:\")\n",
    "    quant = int(input(\"Enter quantity:\"))\n",
    "    for i in C_items:\n",
    "        \n",
    "        choco_items = i.split(\",\")\n",
    "        if (id == choco_items[0]):\n",
    "            \n",
    "            print(\"\\nID:\", choco_items[0], \" Name:\", choco_items[1], \" Type:\", choco_items[2], \" Price:\", choco_items[3], \" Quantity available:\", choco_items[4], \" Expiry date:\", choco_items[5] )\n",
    "            amt += (int(choco_items[3])*quant)\n",
    "            new_quant = int(choco_items[4]) - quant\n",
    "            choco_items[4] = str(new_quant)\n",
    "                \n",
    "            print(\"New quantity\", choco_items[4])\n",
    "                \n",
    "            amt1 += amt\n",
    "            fd = open(\"SALES.txt\",'a')\n",
    "            from datetime import datetime \n",
    "            datetime = datetime.now()\n",
    "            sales = (\"\\n\" + \"ID: \" + choco_items[0] +\", \" + \" Name: \"+ choco_items[1] + \", \"+\" Type: \" + choco_items[2]+ \", \" + \" Price: \" + str(amt) + \", \" + \" Quantity: \" + str(quant) + \", \"  +\" Expiry date: \" + choco_items[5]+ \"\\n\" + str(datetime)  )\n",
    "            records = (sales)\n",
    "            fd.write(records)\n",
    "            fd.close()\n",
    "            import json\n",
    "            fd = open(\"DATA_SALES1.txt\",'a') \n",
    "            js = json.dumps(choco_items)\n",
    "            fd.write(js)\n",
    "            fd.close()\n",
    "        else:\n",
    "            import json\n",
    "            fd = open(\"DATA_SALES1.txt\",'a') \n",
    "            js = json.dumps(choco_items)\n",
    "            fd.write(js)\n",
    "            fd.close()\n",
    "            \n",
    "            \n",
    "        \n",
    "print(\"\\nBill generated:\", amt1)\n",
    "print(\"***  Thank you for visiting  ***\")"
   ]
  },
  {
   "cell_type": "markdown",
   "metadata": {},
   "source": [
    "# Add new item"
   ]
  },
  {
   "cell_type": "code",
   "execution_count": 2,
   "metadata": {},
   "outputs": [
    {
     "name": "stdout",
     "output_type": "stream",
     "text": [
      "Enter name:Malai\n",
      "Enter type:soft\n",
      "Enter price:30\n",
      "Enter quantity:50\n",
      "Enter Expiry date:23/3/22\n",
      "Information added succesfully.\n"
     ]
    }
   ],
   "source": [
    "fd = open(\"DATA_LIST.txt\",'r')\n",
    "txt = fd.read()\n",
    "txt = str(txt)\n",
    "C_items = txt.split(\"\\n\")\n",
    "name = input(\"Enter name:\")\n",
    "Type = input(\"Enter type:\")\n",
    "price = int(input(\"Enter price:\"))\n",
    "Quantity = int(input(\"Enter quantity:\"))\n",
    "Exp_Date = input(\"Enter Expiry date:\")\n",
    "fd = open(\"DATA_LIST.txt\",'a')\n",
    "data = (\"\\n\" + str(len(C_items)+1) + \",\" + \" \" + name + \",\" + \" \" + Type + \", \" + str(price) + \",\" + \" \" + str(Quantity) + \",\" + \" \" + Exp_Date)\n",
    "fd.write(data)\n",
    "fd.close()\n",
    "print(\"Information added succesfully.\")"
   ]
  },
  {
   "cell_type": "markdown",
   "metadata": {},
   "source": [
    "# Delete item"
   ]
  },
  {
   "cell_type": "code",
   "execution_count": 3,
   "metadata": {},
   "outputs": [
    {
     "name": "stdout",
     "output_type": "stream",
     "text": [
      "Enter id of item to be deleted:2\n",
      "Deleting item: \n",
      " ['2', ' Perk', ' Crunchy', ' 10', ' 100', ' 12/10/21']\n",
      "\n",
      " Item deleted succesfully\n"
     ]
    }
   ],
   "source": [
    "import json\n",
    "fd = open(\"DATA_LIST.txt\",'r')\n",
    "txt = fd.read()\n",
    "txt = str(txt)\n",
    "C_items = txt.split(\"\\n\")\n",
    "id = str(input(\"Enter id of item to be deleted:\"))\n",
    "for i in C_items:\n",
    "    choco_items = i.split(\",\")\n",
    "    \n",
    "    if(id == choco_items[0]):\n",
    "        print(\"Deleting item: \\n\", choco_items)\n",
    "    else:\n",
    "        import json\n",
    "        fd = open(\"DATA_SALES2.txt\",'a') \n",
    "        js = json.dumps(choco_items)\n",
    "        fd.write(js)\n",
    "        fd.close()\n",
    "        \n",
    "\n",
    "        \n",
    "        \n",
    "print(\"\\n Item deleted succesfully\")"
   ]
  },
  {
   "cell_type": "markdown",
   "metadata": {},
   "source": [
    "# Update item"
   ]
  },
  {
   "cell_type": "code",
   "execution_count": 5,
   "metadata": {},
   "outputs": [
    {
     "name": "stdout",
     "output_type": "stream",
     "text": [
      "Enter id of item to be updated:1\n",
      "Enter new quantity:20\n",
      "Item updated succesfully\n"
     ]
    }
   ],
   "source": [
    "import json\n",
    "fd = open(\"DATA_LIST.txt\",'r')\n",
    "txt = fd.read()\n",
    "txt = str(txt)\n",
    "C_items = txt.split(\"\\n\")\n",
    "id = str(input(\"Enter id of item to be updated:\"))\n",
    "for i in C_items:\n",
    "    choco_items = i.split(\",\")\n",
    "    \n",
    "    if (id == choco_items[0]):\n",
    "        quant1 = int(input(\"Enter new quantity:\"))\n",
    "        choco_items[4] = str(quant1)\n",
    "        \n",
    "        import json\n",
    "        fd = open(\"DATA_SALES3.txt\",'a') \n",
    "        js = json.dumps(choco_items)\n",
    "        fd.write(js)\n",
    "        fd.close()\n",
    "    else:\n",
    "        import json\n",
    "        fd = open(\"DATA_SALES3.txt\",'a') \n",
    "        js = json.dumps(choco_items)\n",
    "        fd.write(js)\n",
    "        fd.close()\n",
    "        \n",
    "              \n",
    "print(\"Item updated succesfully\")"
   ]
  },
  {
   "cell_type": "code",
   "execution_count": null,
   "metadata": {},
   "outputs": [],
   "source": []
  }
 ],
 "metadata": {
  "kernelspec": {
   "display_name": "Python 3",
   "language": "python",
   "name": "python3"
  },
  "language_info": {
   "codemirror_mode": {
    "name": "ipython",
    "version": 3
   },
   "file_extension": ".py",
   "mimetype": "text/x-python",
   "name": "python",
   "nbconvert_exporter": "python",
   "pygments_lexer": "ipython3",
   "version": "3.8.5"
  }
 },
 "nbformat": 4,
 "nbformat_minor": 4
}
